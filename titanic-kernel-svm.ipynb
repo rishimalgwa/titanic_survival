{
 "cells": [
  {
   "cell_type": "code",
   "execution_count": 1,
   "id": "c9403951",
   "metadata": {
    "_cell_guid": "b1076dfc-b9ad-4769-8c92-a6c4dae69d19",
    "_uuid": "8f2839f25d086af736a60e9eeb907d3b93b6e0e5",
    "execution": {
     "iopub.execute_input": "2022-01-23T15:12:54.170892Z",
     "iopub.status.busy": "2022-01-23T15:12:54.169778Z",
     "iopub.status.idle": "2022-01-23T15:12:54.180973Z",
     "shell.execute_reply": "2022-01-23T15:12:54.180228Z",
     "shell.execute_reply.started": "2022-01-23T15:11:41.563743Z"
    },
    "papermill": {
     "duration": 0.031901,
     "end_time": "2022-01-23T15:12:54.181134",
     "exception": false,
     "start_time": "2022-01-23T15:12:54.149233",
     "status": "completed"
    },
    "tags": []
   },
   "outputs": [
    {
     "name": "stdout",
     "output_type": "stream",
     "text": [
      "/kaggle/input/titanic/train.csv\n",
      "/kaggle/input/titanic/test.csv\n",
      "/kaggle/input/titanic/gender_submission.csv\n"
     ]
    }
   ],
   "source": [
    "# This Python 3 environment comes with many helpful analytics libraries installed\n",
    "# It is defined by the kaggle/python Docker image: https://github.com/kaggle/docker-python\n",
    "# For example, here's several helpful packages to load\n",
    "\n",
    "import numpy as np # linear algebra\n",
    "import pandas as pd # data processing, CSV file I/O (e.g. pd.read_csv)\n",
    "\n",
    "# Input data files are available in the read-only \"../input/\" directory\n",
    "# For example, running this (by clicking run or pressing Shift+Enter) will list all files under the input directory\n",
    "\n",
    "import os\n",
    "for dirname, _, filenames in os.walk('/kaggle/input'):\n",
    "    for filename in filenames:\n",
    "        print(os.path.join(dirname, filename))\n",
    "\n",
    "# You can write up to 20GB to the current directory (/kaggle/working/) that gets preserved as output when you create a version using \"Save & Run All\" \n",
    "# You can also write temporary files to /kaggle/temp/, but they won't be saved outside of the current session"
   ]
  },
  {
   "cell_type": "markdown",
   "id": "eff61c8c",
   "metadata": {
    "papermill": {
     "duration": 0.015371,
     "end_time": "2022-01-23T15:12:54.213028",
     "exception": false,
     "start_time": "2022-01-23T15:12:54.197657",
     "status": "completed"
    },
    "tags": []
   },
   "source": [
    "# Importing data"
   ]
  },
  {
   "cell_type": "code",
   "execution_count": 2,
   "id": "7f28b918",
   "metadata": {
    "execution": {
     "iopub.execute_input": "2022-01-23T15:12:54.249100Z",
     "iopub.status.busy": "2022-01-23T15:12:54.247123Z",
     "iopub.status.idle": "2022-01-23T15:12:54.278958Z",
     "shell.execute_reply": "2022-01-23T15:12:54.279466Z",
     "shell.execute_reply.started": "2022-01-23T15:11:41.577116Z"
    },
    "papermill": {
     "duration": 0.05061,
     "end_time": "2022-01-23T15:12:54.279661",
     "exception": false,
     "start_time": "2022-01-23T15:12:54.229051",
     "status": "completed"
    },
    "tags": []
   },
   "outputs": [],
   "source": [
    "train_dataset  =pd.read_csv('/kaggle/input/titanic/train.csv')\n",
    "test_dataset = pd.read_csv('/kaggle/input/titanic/test.csv')"
   ]
  },
  {
   "cell_type": "code",
   "execution_count": 3,
   "id": "9aedc579",
   "metadata": {
    "execution": {
     "iopub.execute_input": "2022-01-23T15:12:54.321414Z",
     "iopub.status.busy": "2022-01-23T15:12:54.320789Z",
     "iopub.status.idle": "2022-01-23T15:12:54.330877Z",
     "shell.execute_reply": "2022-01-23T15:12:54.330263Z",
     "shell.execute_reply.started": "2022-01-23T15:11:41.597887Z"
    },
    "papermill": {
     "duration": 0.034892,
     "end_time": "2022-01-23T15:12:54.331009",
     "exception": false,
     "start_time": "2022-01-23T15:12:54.296117",
     "status": "completed"
    },
    "tags": []
   },
   "outputs": [],
   "source": [
    "train_dataset =train_dataset.drop(['PassengerId','Name','Ticket','Cabin'],axis=1)\n",
    "test_passengerIds = test_dataset['PassengerId'].values\n",
    "test_dataset=test_dataset.drop(['PassengerId','Name','Ticket','Cabin'],axis=1)\n"
   ]
  },
  {
   "cell_type": "code",
   "execution_count": 4,
   "id": "777605a9",
   "metadata": {
    "execution": {
     "iopub.execute_input": "2022-01-23T15:12:54.370005Z",
     "iopub.status.busy": "2022-01-23T15:12:54.369103Z",
     "iopub.status.idle": "2022-01-23T15:12:54.382927Z",
     "shell.execute_reply": "2022-01-23T15:12:54.383486Z",
     "shell.execute_reply.started": "2022-01-23T15:11:41.606294Z"
    },
    "papermill": {
     "duration": 0.036803,
     "end_time": "2022-01-23T15:12:54.383672",
     "exception": false,
     "start_time": "2022-01-23T15:12:54.346869",
     "status": "completed"
    },
    "tags": []
   },
   "outputs": [
    {
     "data": {
      "text/html": [
       "<div>\n",
       "<style scoped>\n",
       "    .dataframe tbody tr th:only-of-type {\n",
       "        vertical-align: middle;\n",
       "    }\n",
       "\n",
       "    .dataframe tbody tr th {\n",
       "        vertical-align: top;\n",
       "    }\n",
       "\n",
       "    .dataframe thead th {\n",
       "        text-align: right;\n",
       "    }\n",
       "</style>\n",
       "<table border=\"1\" class=\"dataframe\">\n",
       "  <thead>\n",
       "    <tr style=\"text-align: right;\">\n",
       "      <th></th>\n",
       "      <th>Survived</th>\n",
       "      <th>Pclass</th>\n",
       "      <th>Sex</th>\n",
       "      <th>Age</th>\n",
       "      <th>SibSp</th>\n",
       "      <th>Parch</th>\n",
       "      <th>Fare</th>\n",
       "      <th>Embarked</th>\n",
       "    </tr>\n",
       "  </thead>\n",
       "  <tbody>\n",
       "    <tr>\n",
       "      <th>0</th>\n",
       "      <td>0</td>\n",
       "      <td>3</td>\n",
       "      <td>male</td>\n",
       "      <td>22.0</td>\n",
       "      <td>1</td>\n",
       "      <td>0</td>\n",
       "      <td>7.2500</td>\n",
       "      <td>S</td>\n",
       "    </tr>\n",
       "    <tr>\n",
       "      <th>1</th>\n",
       "      <td>1</td>\n",
       "      <td>1</td>\n",
       "      <td>female</td>\n",
       "      <td>38.0</td>\n",
       "      <td>1</td>\n",
       "      <td>0</td>\n",
       "      <td>71.2833</td>\n",
       "      <td>C</td>\n",
       "    </tr>\n",
       "    <tr>\n",
       "      <th>2</th>\n",
       "      <td>1</td>\n",
       "      <td>3</td>\n",
       "      <td>female</td>\n",
       "      <td>26.0</td>\n",
       "      <td>0</td>\n",
       "      <td>0</td>\n",
       "      <td>7.9250</td>\n",
       "      <td>S</td>\n",
       "    </tr>\n",
       "    <tr>\n",
       "      <th>3</th>\n",
       "      <td>1</td>\n",
       "      <td>1</td>\n",
       "      <td>female</td>\n",
       "      <td>35.0</td>\n",
       "      <td>1</td>\n",
       "      <td>0</td>\n",
       "      <td>53.1000</td>\n",
       "      <td>S</td>\n",
       "    </tr>\n",
       "    <tr>\n",
       "      <th>4</th>\n",
       "      <td>0</td>\n",
       "      <td>3</td>\n",
       "      <td>male</td>\n",
       "      <td>35.0</td>\n",
       "      <td>0</td>\n",
       "      <td>0</td>\n",
       "      <td>8.0500</td>\n",
       "      <td>S</td>\n",
       "    </tr>\n",
       "  </tbody>\n",
       "</table>\n",
       "</div>"
      ],
      "text/plain": [
       "   Survived  Pclass     Sex   Age  SibSp  Parch     Fare Embarked\n",
       "0         0       3    male  22.0      1      0   7.2500        S\n",
       "1         1       1  female  38.0      1      0  71.2833        C\n",
       "2         1       3  female  26.0      0      0   7.9250        S\n",
       "3         1       1  female  35.0      1      0  53.1000        S\n",
       "4         0       3    male  35.0      0      0   8.0500        S"
      ]
     },
     "execution_count": 4,
     "metadata": {},
     "output_type": "execute_result"
    }
   ],
   "source": [
    "train_dataset.head()"
   ]
  },
  {
   "cell_type": "code",
   "execution_count": 5,
   "id": "fbb389a5",
   "metadata": {
    "execution": {
     "iopub.execute_input": "2022-01-23T15:12:54.419222Z",
     "iopub.status.busy": "2022-01-23T15:12:54.418667Z",
     "iopub.status.idle": "2022-01-23T15:12:54.434738Z",
     "shell.execute_reply": "2022-01-23T15:12:54.434233Z",
     "shell.execute_reply.started": "2022-01-23T15:11:41.626142Z"
    },
    "papermill": {
     "duration": 0.035003,
     "end_time": "2022-01-23T15:12:54.434882",
     "exception": false,
     "start_time": "2022-01-23T15:12:54.399879",
     "status": "completed"
    },
    "tags": []
   },
   "outputs": [],
   "source": [
    "train_dataset = pd.get_dummies(train_dataset, columns = ['Sex','Embarked'])\n",
    "test_dataset = pd.get_dummies(test_dataset, columns = ['Sex','Embarked'])"
   ]
  },
  {
   "cell_type": "code",
   "execution_count": 6,
   "id": "ea032457",
   "metadata": {
    "execution": {
     "iopub.execute_input": "2022-01-23T15:12:54.470875Z",
     "iopub.status.busy": "2022-01-23T15:12:54.469946Z",
     "iopub.status.idle": "2022-01-23T15:12:54.481822Z",
     "shell.execute_reply": "2022-01-23T15:12:54.482306Z",
     "shell.execute_reply.started": "2022-01-23T15:11:41.644656Z"
    },
    "papermill": {
     "duration": 0.03147,
     "end_time": "2022-01-23T15:12:54.482467",
     "exception": false,
     "start_time": "2022-01-23T15:12:54.450997",
     "status": "completed"
    },
    "tags": []
   },
   "outputs": [
    {
     "data": {
      "text/html": [
       "<div>\n",
       "<style scoped>\n",
       "    .dataframe tbody tr th:only-of-type {\n",
       "        vertical-align: middle;\n",
       "    }\n",
       "\n",
       "    .dataframe tbody tr th {\n",
       "        vertical-align: top;\n",
       "    }\n",
       "\n",
       "    .dataframe thead th {\n",
       "        text-align: right;\n",
       "    }\n",
       "</style>\n",
       "<table border=\"1\" class=\"dataframe\">\n",
       "  <thead>\n",
       "    <tr style=\"text-align: right;\">\n",
       "      <th></th>\n",
       "      <th>Survived</th>\n",
       "      <th>Pclass</th>\n",
       "      <th>Age</th>\n",
       "      <th>SibSp</th>\n",
       "      <th>Parch</th>\n",
       "      <th>Fare</th>\n",
       "      <th>Sex_female</th>\n",
       "      <th>Sex_male</th>\n",
       "      <th>Embarked_C</th>\n",
       "      <th>Embarked_Q</th>\n",
       "      <th>Embarked_S</th>\n",
       "    </tr>\n",
       "  </thead>\n",
       "  <tbody>\n",
       "    <tr>\n",
       "      <th>0</th>\n",
       "      <td>0</td>\n",
       "      <td>3</td>\n",
       "      <td>22.0</td>\n",
       "      <td>1</td>\n",
       "      <td>0</td>\n",
       "      <td>7.2500</td>\n",
       "      <td>0</td>\n",
       "      <td>1</td>\n",
       "      <td>0</td>\n",
       "      <td>0</td>\n",
       "      <td>1</td>\n",
       "    </tr>\n",
       "    <tr>\n",
       "      <th>1</th>\n",
       "      <td>1</td>\n",
       "      <td>1</td>\n",
       "      <td>38.0</td>\n",
       "      <td>1</td>\n",
       "      <td>0</td>\n",
       "      <td>71.2833</td>\n",
       "      <td>1</td>\n",
       "      <td>0</td>\n",
       "      <td>1</td>\n",
       "      <td>0</td>\n",
       "      <td>0</td>\n",
       "    </tr>\n",
       "    <tr>\n",
       "      <th>2</th>\n",
       "      <td>1</td>\n",
       "      <td>3</td>\n",
       "      <td>26.0</td>\n",
       "      <td>0</td>\n",
       "      <td>0</td>\n",
       "      <td>7.9250</td>\n",
       "      <td>1</td>\n",
       "      <td>0</td>\n",
       "      <td>0</td>\n",
       "      <td>0</td>\n",
       "      <td>1</td>\n",
       "    </tr>\n",
       "    <tr>\n",
       "      <th>3</th>\n",
       "      <td>1</td>\n",
       "      <td>1</td>\n",
       "      <td>35.0</td>\n",
       "      <td>1</td>\n",
       "      <td>0</td>\n",
       "      <td>53.1000</td>\n",
       "      <td>1</td>\n",
       "      <td>0</td>\n",
       "      <td>0</td>\n",
       "      <td>0</td>\n",
       "      <td>1</td>\n",
       "    </tr>\n",
       "    <tr>\n",
       "      <th>4</th>\n",
       "      <td>0</td>\n",
       "      <td>3</td>\n",
       "      <td>35.0</td>\n",
       "      <td>0</td>\n",
       "      <td>0</td>\n",
       "      <td>8.0500</td>\n",
       "      <td>0</td>\n",
       "      <td>1</td>\n",
       "      <td>0</td>\n",
       "      <td>0</td>\n",
       "      <td>1</td>\n",
       "    </tr>\n",
       "  </tbody>\n",
       "</table>\n",
       "</div>"
      ],
      "text/plain": [
       "   Survived  Pclass   Age  SibSp  Parch     Fare  Sex_female  Sex_male  \\\n",
       "0         0       3  22.0      1      0   7.2500           0         1   \n",
       "1         1       1  38.0      1      0  71.2833           1         0   \n",
       "2         1       3  26.0      0      0   7.9250           1         0   \n",
       "3         1       1  35.0      1      0  53.1000           1         0   \n",
       "4         0       3  35.0      0      0   8.0500           0         1   \n",
       "\n",
       "   Embarked_C  Embarked_Q  Embarked_S  \n",
       "0           0           0           1  \n",
       "1           1           0           0  \n",
       "2           0           0           1  \n",
       "3           0           0           1  \n",
       "4           0           0           1  "
      ]
     },
     "execution_count": 6,
     "metadata": {},
     "output_type": "execute_result"
    }
   ],
   "source": [
    "train_dataset.head()\n"
   ]
  },
  {
   "cell_type": "code",
   "execution_count": 7,
   "id": "3f5ef249",
   "metadata": {
    "execution": {
     "iopub.execute_input": "2022-01-23T15:12:54.520813Z",
     "iopub.status.busy": "2022-01-23T15:12:54.519916Z",
     "iopub.status.idle": "2022-01-23T15:12:54.531497Z",
     "shell.execute_reply": "2022-01-23T15:12:54.532021Z",
     "shell.execute_reply.started": "2022-01-23T15:11:41.660240Z"
    },
    "papermill": {
     "duration": 0.033172,
     "end_time": "2022-01-23T15:12:54.532190",
     "exception": false,
     "start_time": "2022-01-23T15:12:54.499018",
     "status": "completed"
    },
    "tags": []
   },
   "outputs": [
    {
     "data": {
      "text/html": [
       "<div>\n",
       "<style scoped>\n",
       "    .dataframe tbody tr th:only-of-type {\n",
       "        vertical-align: middle;\n",
       "    }\n",
       "\n",
       "    .dataframe tbody tr th {\n",
       "        vertical-align: top;\n",
       "    }\n",
       "\n",
       "    .dataframe thead th {\n",
       "        text-align: right;\n",
       "    }\n",
       "</style>\n",
       "<table border=\"1\" class=\"dataframe\">\n",
       "  <thead>\n",
       "    <tr style=\"text-align: right;\">\n",
       "      <th></th>\n",
       "      <th>Pclass</th>\n",
       "      <th>Age</th>\n",
       "      <th>SibSp</th>\n",
       "      <th>Parch</th>\n",
       "      <th>Fare</th>\n",
       "      <th>Sex_female</th>\n",
       "      <th>Sex_male</th>\n",
       "      <th>Embarked_C</th>\n",
       "      <th>Embarked_Q</th>\n",
       "      <th>Embarked_S</th>\n",
       "    </tr>\n",
       "  </thead>\n",
       "  <tbody>\n",
       "    <tr>\n",
       "      <th>0</th>\n",
       "      <td>3</td>\n",
       "      <td>34.5</td>\n",
       "      <td>0</td>\n",
       "      <td>0</td>\n",
       "      <td>7.8292</td>\n",
       "      <td>0</td>\n",
       "      <td>1</td>\n",
       "      <td>0</td>\n",
       "      <td>1</td>\n",
       "      <td>0</td>\n",
       "    </tr>\n",
       "    <tr>\n",
       "      <th>1</th>\n",
       "      <td>3</td>\n",
       "      <td>47.0</td>\n",
       "      <td>1</td>\n",
       "      <td>0</td>\n",
       "      <td>7.0000</td>\n",
       "      <td>1</td>\n",
       "      <td>0</td>\n",
       "      <td>0</td>\n",
       "      <td>0</td>\n",
       "      <td>1</td>\n",
       "    </tr>\n",
       "    <tr>\n",
       "      <th>2</th>\n",
       "      <td>2</td>\n",
       "      <td>62.0</td>\n",
       "      <td>0</td>\n",
       "      <td>0</td>\n",
       "      <td>9.6875</td>\n",
       "      <td>0</td>\n",
       "      <td>1</td>\n",
       "      <td>0</td>\n",
       "      <td>1</td>\n",
       "      <td>0</td>\n",
       "    </tr>\n",
       "    <tr>\n",
       "      <th>3</th>\n",
       "      <td>3</td>\n",
       "      <td>27.0</td>\n",
       "      <td>0</td>\n",
       "      <td>0</td>\n",
       "      <td>8.6625</td>\n",
       "      <td>0</td>\n",
       "      <td>1</td>\n",
       "      <td>0</td>\n",
       "      <td>0</td>\n",
       "      <td>1</td>\n",
       "    </tr>\n",
       "    <tr>\n",
       "      <th>4</th>\n",
       "      <td>3</td>\n",
       "      <td>22.0</td>\n",
       "      <td>1</td>\n",
       "      <td>1</td>\n",
       "      <td>12.2875</td>\n",
       "      <td>1</td>\n",
       "      <td>0</td>\n",
       "      <td>0</td>\n",
       "      <td>0</td>\n",
       "      <td>1</td>\n",
       "    </tr>\n",
       "  </tbody>\n",
       "</table>\n",
       "</div>"
      ],
      "text/plain": [
       "   Pclass   Age  SibSp  Parch     Fare  Sex_female  Sex_male  Embarked_C  \\\n",
       "0       3  34.5      0      0   7.8292           0         1           0   \n",
       "1       3  47.0      1      0   7.0000           1         0           0   \n",
       "2       2  62.0      0      0   9.6875           0         1           0   \n",
       "3       3  27.0      0      0   8.6625           0         1           0   \n",
       "4       3  22.0      1      1  12.2875           1         0           0   \n",
       "\n",
       "   Embarked_Q  Embarked_S  \n",
       "0           1           0  \n",
       "1           0           1  \n",
       "2           1           0  \n",
       "3           0           1  \n",
       "4           0           1  "
      ]
     },
     "execution_count": 7,
     "metadata": {},
     "output_type": "execute_result"
    }
   ],
   "source": [
    "test_dataset.head()"
   ]
  },
  {
   "cell_type": "markdown",
   "id": "3a66551b",
   "metadata": {
    "papermill": {
     "duration": 0.016811,
     "end_time": "2022-01-23T15:12:54.566133",
     "exception": false,
     "start_time": "2022-01-23T15:12:54.549322",
     "status": "completed"
    },
    "tags": []
   },
   "source": [
    "# Checking null values"
   ]
  },
  {
   "cell_type": "code",
   "execution_count": 8,
   "id": "d5d0f563",
   "metadata": {
    "execution": {
     "iopub.execute_input": "2022-01-23T15:12:54.603903Z",
     "iopub.status.busy": "2022-01-23T15:12:54.602975Z",
     "iopub.status.idle": "2022-01-23T15:12:54.612499Z",
     "shell.execute_reply": "2022-01-23T15:12:54.613048Z",
     "shell.execute_reply.started": "2022-01-23T15:11:41.678224Z"
    },
    "papermill": {
     "duration": 0.029812,
     "end_time": "2022-01-23T15:12:54.613217",
     "exception": false,
     "start_time": "2022-01-23T15:12:54.583405",
     "status": "completed"
    },
    "tags": []
   },
   "outputs": [
    {
     "data": {
      "text/plain": [
       "Survived        0\n",
       "Pclass          0\n",
       "Age           177\n",
       "SibSp           0\n",
       "Parch           0\n",
       "Fare            0\n",
       "Sex_female      0\n",
       "Sex_male        0\n",
       "Embarked_C      0\n",
       "Embarked_Q      0\n",
       "Embarked_S      0\n",
       "dtype: int64"
      ]
     },
     "execution_count": 8,
     "metadata": {},
     "output_type": "execute_result"
    }
   ],
   "source": [
    "train_dataset.isnull().sum()"
   ]
  },
  {
   "cell_type": "code",
   "execution_count": 9,
   "id": "7b66068e",
   "metadata": {
    "execution": {
     "iopub.execute_input": "2022-01-23T15:12:54.653392Z",
     "iopub.status.busy": "2022-01-23T15:12:54.652418Z",
     "iopub.status.idle": "2022-01-23T15:12:54.658466Z",
     "shell.execute_reply": "2022-01-23T15:12:54.658941Z",
     "shell.execute_reply.started": "2022-01-23T15:11:41.693389Z"
    },
    "papermill": {
     "duration": 0.028601,
     "end_time": "2022-01-23T15:12:54.659104",
     "exception": false,
     "start_time": "2022-01-23T15:12:54.630503",
     "status": "completed"
    },
    "tags": []
   },
   "outputs": [
    {
     "data": {
      "text/plain": [
       "Pclass         0\n",
       "Age           86\n",
       "SibSp          0\n",
       "Parch          0\n",
       "Fare           1\n",
       "Sex_female     0\n",
       "Sex_male       0\n",
       "Embarked_C     0\n",
       "Embarked_Q     0\n",
       "Embarked_S     0\n",
       "dtype: int64"
      ]
     },
     "execution_count": 9,
     "metadata": {},
     "output_type": "execute_result"
    }
   ],
   "source": [
    "test_dataset.isnull().sum()"
   ]
  },
  {
   "cell_type": "markdown",
   "id": "f73bf4c4",
   "metadata": {
    "papermill": {
     "duration": 0.017385,
     "end_time": "2022-01-23T15:12:54.694038",
     "exception": false,
     "start_time": "2022-01-23T15:12:54.676653",
     "status": "completed"
    },
    "tags": []
   },
   "source": [
    "# Filling null values"
   ]
  },
  {
   "cell_type": "code",
   "execution_count": 10,
   "id": "9626c2f3",
   "metadata": {
    "execution": {
     "iopub.execute_input": "2022-01-23T15:12:54.732923Z",
     "iopub.status.busy": "2022-01-23T15:12:54.731988Z",
     "iopub.status.idle": "2022-01-23T15:12:54.738263Z",
     "shell.execute_reply": "2022-01-23T15:12:54.738753Z",
     "shell.execute_reply.started": "2022-01-23T15:11:41.707550Z"
    },
    "papermill": {
     "duration": 0.027277,
     "end_time": "2022-01-23T15:12:54.738919",
     "exception": false,
     "start_time": "2022-01-23T15:12:54.711642",
     "status": "completed"
    },
    "tags": []
   },
   "outputs": [],
   "source": [
    "train_dataset['Age'].fillna(train_dataset['Age'].mean(),inplace = True)\n",
    "test_dataset['Age'].fillna(test_dataset['Age'].mean(),inplace = True)\n",
    "test_dataset['Fare'].fillna(test_dataset['Fare'].mean(),inplace = True)"
   ]
  },
  {
   "cell_type": "code",
   "execution_count": 11,
   "id": "6afcec7b",
   "metadata": {
    "execution": {
     "iopub.execute_input": "2022-01-23T15:12:54.777797Z",
     "iopub.status.busy": "2022-01-23T15:12:54.776830Z",
     "iopub.status.idle": "2022-01-23T15:12:54.784673Z",
     "shell.execute_reply": "2022-01-23T15:12:54.785160Z",
     "shell.execute_reply.started": "2022-01-23T15:11:41.719556Z"
    },
    "papermill": {
     "duration": 0.028883,
     "end_time": "2022-01-23T15:12:54.785320",
     "exception": false,
     "start_time": "2022-01-23T15:12:54.756437",
     "status": "completed"
    },
    "tags": []
   },
   "outputs": [
    {
     "data": {
      "text/plain": [
       "Survived      0\n",
       "Pclass        0\n",
       "Age           0\n",
       "SibSp         0\n",
       "Parch         0\n",
       "Fare          0\n",
       "Sex_female    0\n",
       "Sex_male      0\n",
       "Embarked_C    0\n",
       "Embarked_Q    0\n",
       "Embarked_S    0\n",
       "dtype: int64"
      ]
     },
     "execution_count": 11,
     "metadata": {},
     "output_type": "execute_result"
    }
   ],
   "source": [
    "train_dataset.isnull().sum()"
   ]
  },
  {
   "cell_type": "code",
   "execution_count": 12,
   "id": "cc94a5bd",
   "metadata": {
    "execution": {
     "iopub.execute_input": "2022-01-23T15:12:54.826254Z",
     "iopub.status.busy": "2022-01-23T15:12:54.825299Z",
     "iopub.status.idle": "2022-01-23T15:12:54.831289Z",
     "shell.execute_reply": "2022-01-23T15:12:54.831839Z",
     "shell.execute_reply.started": "2022-01-23T15:11:41.739170Z"
    },
    "papermill": {
     "duration": 0.028862,
     "end_time": "2022-01-23T15:12:54.832000",
     "exception": false,
     "start_time": "2022-01-23T15:12:54.803138",
     "status": "completed"
    },
    "tags": []
   },
   "outputs": [
    {
     "data": {
      "text/plain": [
       "Pclass        0\n",
       "Age           0\n",
       "SibSp         0\n",
       "Parch         0\n",
       "Fare          0\n",
       "Sex_female    0\n",
       "Sex_male      0\n",
       "Embarked_C    0\n",
       "Embarked_Q    0\n",
       "Embarked_S    0\n",
       "dtype: int64"
      ]
     },
     "execution_count": 12,
     "metadata": {},
     "output_type": "execute_result"
    }
   ],
   "source": [
    "test_dataset.isnull().sum()"
   ]
  },
  {
   "cell_type": "markdown",
   "id": "abf42bf9",
   "metadata": {
    "papermill": {
     "duration": 0.017786,
     "end_time": "2022-01-23T15:12:54.867826",
     "exception": false,
     "start_time": "2022-01-23T15:12:54.850040",
     "status": "completed"
    },
    "tags": []
   },
   "source": [
    "# Splitting traning set"
   ]
  },
  {
   "cell_type": "code",
   "execution_count": 13,
   "id": "58b96e95",
   "metadata": {
    "execution": {
     "iopub.execute_input": "2022-01-23T15:12:54.910638Z",
     "iopub.status.busy": "2022-01-23T15:12:54.907470Z",
     "iopub.status.idle": "2022-01-23T15:12:54.914247Z",
     "shell.execute_reply": "2022-01-23T15:12:54.914730Z",
     "shell.execute_reply.started": "2022-01-23T15:11:41.753131Z"
    },
    "papermill": {
     "duration": 0.028241,
     "end_time": "2022-01-23T15:12:54.914919",
     "exception": false,
     "start_time": "2022-01-23T15:12:54.886678",
     "status": "completed"
    },
    "tags": []
   },
   "outputs": [],
   "source": [
    "X_train = train_dataset.iloc[:,1:].values\n",
    "y_train=train_dataset['Survived'].values"
   ]
  },
  {
   "cell_type": "code",
   "execution_count": 14,
   "id": "a3bdb914",
   "metadata": {
    "execution": {
     "iopub.execute_input": "2022-01-23T15:12:54.957295Z",
     "iopub.status.busy": "2022-01-23T15:12:54.955313Z",
     "iopub.status.idle": "2022-01-23T15:12:54.961737Z",
     "shell.execute_reply": "2022-01-23T15:12:54.961196Z",
     "shell.execute_reply.started": "2022-01-23T15:11:41.763453Z"
    },
    "papermill": {
     "duration": 0.028167,
     "end_time": "2022-01-23T15:12:54.961875",
     "exception": false,
     "start_time": "2022-01-23T15:12:54.933708",
     "status": "completed"
    },
    "tags": []
   },
   "outputs": [
    {
     "name": "stdout",
     "output_type": "stream",
     "text": [
      "[[ 3.         22.          1.         ...  0.          0.\n",
      "   1.        ]\n",
      " [ 1.         38.          1.         ...  1.          0.\n",
      "   0.        ]\n",
      " [ 3.         26.          0.         ...  0.          0.\n",
      "   1.        ]\n",
      " ...\n",
      " [ 3.         29.69911765  1.         ...  0.          0.\n",
      "   1.        ]\n",
      " [ 1.         26.          0.         ...  1.          0.\n",
      "   0.        ]\n",
      " [ 3.         32.          0.         ...  0.          1.\n",
      "   0.        ]]\n"
     ]
    }
   ],
   "source": [
    "print(X_train)"
   ]
  },
  {
   "cell_type": "markdown",
   "id": "02a631c5",
   "metadata": {
    "papermill": {
     "duration": 0.018309,
     "end_time": "2022-01-23T15:12:54.998626",
     "exception": false,
     "start_time": "2022-01-23T15:12:54.980317",
     "status": "completed"
    },
    "tags": []
   },
   "source": [
    "# Splitting test set"
   ]
  },
  {
   "cell_type": "code",
   "execution_count": 15,
   "id": "4b1bbea4",
   "metadata": {
    "execution": {
     "iopub.execute_input": "2022-01-23T15:12:55.040853Z",
     "iopub.status.busy": "2022-01-23T15:12:55.040145Z",
     "iopub.status.idle": "2022-01-23T15:12:55.043463Z",
     "shell.execute_reply": "2022-01-23T15:12:55.042873Z",
     "shell.execute_reply.started": "2022-01-23T15:11:41.773217Z"
    },
    "papermill": {
     "duration": 0.026415,
     "end_time": "2022-01-23T15:12:55.043616",
     "exception": false,
     "start_time": "2022-01-23T15:12:55.017201",
     "status": "completed"
    },
    "tags": []
   },
   "outputs": [],
   "source": [
    " X_test = test_dataset.values"
   ]
  },
  {
   "cell_type": "code",
   "execution_count": 16,
   "id": "978cca60",
   "metadata": {
    "execution": {
     "iopub.execute_input": "2022-01-23T15:12:55.102337Z",
     "iopub.status.busy": "2022-01-23T15:12:55.101323Z",
     "iopub.status.idle": "2022-01-23T15:12:55.106741Z",
     "shell.execute_reply": "2022-01-23T15:12:55.106017Z",
     "shell.execute_reply.started": "2022-01-23T15:11:41.783258Z"
    },
    "papermill": {
     "duration": 0.04046,
     "end_time": "2022-01-23T15:12:55.106923",
     "exception": false,
     "start_time": "2022-01-23T15:12:55.066463",
     "status": "completed"
    },
    "tags": []
   },
   "outputs": [
    {
     "name": "stdout",
     "output_type": "stream",
     "text": [
      "[[ 3.         34.5         0.         ...  0.          1.\n",
      "   0.        ]\n",
      " [ 3.         47.          1.         ...  0.          0.\n",
      "   1.        ]\n",
      " [ 2.         62.          0.         ...  0.          1.\n",
      "   0.        ]\n",
      " ...\n",
      " [ 3.         38.5         0.         ...  0.          0.\n",
      "   1.        ]\n",
      " [ 3.         30.27259036  0.         ...  0.          0.\n",
      "   1.        ]\n",
      " [ 3.         30.27259036  1.         ...  1.          0.\n",
      "   0.        ]]\n"
     ]
    }
   ],
   "source": [
    "print(X_test)"
   ]
  },
  {
   "cell_type": "markdown",
   "id": "07bd026a",
   "metadata": {
    "papermill": {
     "duration": 0.026535,
     "end_time": "2022-01-23T15:12:55.156298",
     "exception": false,
     "start_time": "2022-01-23T15:12:55.129763",
     "status": "completed"
    },
    "tags": []
   },
   "source": [
    "# Feature scaling"
   ]
  },
  {
   "cell_type": "code",
   "execution_count": 17,
   "id": "fa892f50",
   "metadata": {
    "execution": {
     "iopub.execute_input": "2022-01-23T15:12:55.203728Z",
     "iopub.status.busy": "2022-01-23T15:12:55.202890Z",
     "iopub.status.idle": "2022-01-23T15:12:56.199016Z",
     "shell.execute_reply": "2022-01-23T15:12:56.198393Z",
     "shell.execute_reply.started": "2022-01-23T15:11:41.794860Z"
    },
    "papermill": {
     "duration": 1.021689,
     "end_time": "2022-01-23T15:12:56.199166",
     "exception": false,
     "start_time": "2022-01-23T15:12:55.177477",
     "status": "completed"
    },
    "tags": []
   },
   "outputs": [],
   "source": [
    "from sklearn.preprocessing import StandardScaler\n",
    "sc = StandardScaler()\n",
    "X_train = sc.fit_transform(X_train)\n",
    "X_test = sc.transform(X_test)"
   ]
  },
  {
   "cell_type": "markdown",
   "id": "664f0752",
   "metadata": {
    "papermill": {
     "duration": 0.018712,
     "end_time": "2022-01-23T15:12:56.236628",
     "exception": false,
     "start_time": "2022-01-23T15:12:56.217916",
     "status": "completed"
    },
    "tags": []
   },
   "source": [
    "# Training the Kernel SVM model on the Training set"
   ]
  },
  {
   "cell_type": "code",
   "execution_count": 18,
   "id": "7e0c3a66",
   "metadata": {
    "execution": {
     "iopub.execute_input": "2022-01-23T15:12:56.278513Z",
     "iopub.status.busy": "2022-01-23T15:12:56.277783Z",
     "iopub.status.idle": "2022-01-23T15:12:56.428467Z",
     "shell.execute_reply": "2022-01-23T15:12:56.427972Z",
     "shell.execute_reply.started": "2022-01-23T15:11:41.803999Z"
    },
    "papermill": {
     "duration": 0.173551,
     "end_time": "2022-01-23T15:12:56.428622",
     "exception": false,
     "start_time": "2022-01-23T15:12:56.255071",
     "status": "completed"
    },
    "tags": []
   },
   "outputs": [
    {
     "data": {
      "text/plain": [
       "SVC()"
      ]
     },
     "execution_count": 18,
     "metadata": {},
     "output_type": "execute_result"
    }
   ],
   "source": [
    "from sklearn.svm import SVC\n",
    "\n",
    "classifier= SVC(kernel='rbf')\n",
    "classifier.fit(X_train, y_train)"
   ]
  },
  {
   "cell_type": "markdown",
   "id": "20119fb8",
   "metadata": {
    "papermill": {
     "duration": 0.018403,
     "end_time": "2022-01-23T15:12:56.465912",
     "exception": false,
     "start_time": "2022-01-23T15:12:56.447509",
     "status": "completed"
    },
    "tags": []
   },
   "source": [
    "# Predicting test values"
   ]
  },
  {
   "cell_type": "code",
   "execution_count": 19,
   "id": "4c09f828",
   "metadata": {
    "execution": {
     "iopub.execute_input": "2022-01-23T15:12:56.508358Z",
     "iopub.status.busy": "2022-01-23T15:12:56.507763Z",
     "iopub.status.idle": "2022-01-23T15:12:56.513941Z",
     "shell.execute_reply": "2022-01-23T15:12:56.514391Z",
     "shell.execute_reply.started": "2022-01-23T15:11:41.832820Z"
    },
    "papermill": {
     "duration": 0.029775,
     "end_time": "2022-01-23T15:12:56.514575",
     "exception": false,
     "start_time": "2022-01-23T15:12:56.484800",
     "status": "completed"
    },
    "tags": []
   },
   "outputs": [],
   "source": [
    "y_pred = classifier.predict(X_test)"
   ]
  },
  {
   "cell_type": "markdown",
   "id": "4f80168a",
   "metadata": {
    "papermill": {
     "duration": 0.018321,
     "end_time": "2022-01-23T15:12:56.551691",
     "exception": false,
     "start_time": "2022-01-23T15:12:56.533370",
     "status": "completed"
    },
    "tags": []
   },
   "source": [
    "# Creating output file"
   ]
  },
  {
   "cell_type": "code",
   "execution_count": 20,
   "id": "a6b4cfae",
   "metadata": {
    "execution": {
     "iopub.execute_input": "2022-01-23T15:12:56.592498Z",
     "iopub.status.busy": "2022-01-23T15:12:56.591897Z",
     "iopub.status.idle": "2022-01-23T15:12:56.598739Z",
     "shell.execute_reply": "2022-01-23T15:12:56.599214Z",
     "shell.execute_reply.started": "2022-01-23T15:11:41.843098Z"
    },
    "papermill": {
     "duration": 0.028986,
     "end_time": "2022-01-23T15:12:56.599388",
     "exception": false,
     "start_time": "2022-01-23T15:12:56.570402",
     "status": "completed"
    },
    "tags": []
   },
   "outputs": [],
   "source": [
    "output = pd.DataFrame({'PassengerId':test_passengerIds, 'Survived': y_pred})\n",
    "output.to_csv('submission.csv', index=False)"
   ]
  }
 ],
 "metadata": {
  "kernelspec": {
   "display_name": "Python 3",
   "language": "python",
   "name": "python3"
  },
  "language_info": {
   "codemirror_mode": {
    "name": "ipython",
    "version": 3
   },
   "file_extension": ".py",
   "mimetype": "text/x-python",
   "name": "python",
   "nbconvert_exporter": "python",
   "pygments_lexer": "ipython3",
   "version": "3.7.12"
  },
  "papermill": {
   "default_parameters": {},
   "duration": 12.038079,
   "end_time": "2022-01-23T15:12:57.328042",
   "environment_variables": {},
   "exception": null,
   "input_path": "__notebook__.ipynb",
   "output_path": "__notebook__.ipynb",
   "parameters": {},
   "start_time": "2022-01-23T15:12:45.289963",
   "version": "2.3.3"
  }
 },
 "nbformat": 4,
 "nbformat_minor": 5
}
